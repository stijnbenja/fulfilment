{
 "cells": [
  {
   "cell_type": "code",
   "execution_count": 1,
   "metadata": {},
   "outputs": [],
   "source": [
    "from math import inf"
   ]
  },
  {
   "cell_type": "code",
   "execution_count": 5,
   "metadata": {},
   "outputs": [],
   "source": [
    "formaten_per_klasse = {\n",
    "    'XXXXS':150,\n",
    "    'XXXS':1776,\n",
    "    'XXS':2886,\n",
    "    'XS': 5200,\n",
    "    'S':10_800,\n",
    "    'M':38_500,\n",
    "    'L':147_600,\n",
    "    'XL':240_000,\n",
    "    'XXL':inf\n",
    "}"
   ]
  },
  {
   "cell_type": "code",
   "execution_count": null,
   "metadata": {},
   "outputs": [],
   "source": [
    "prijzen_per_klasse = {\n",
    "    'XXXXS':0.001,\n",
    "    'XXXS':0.01,\n",
    "    'XXS':0.02,\n",
    "    'XS': 0.04,\n",
    "    'S': 0.05,\n",
    "    'M': 0.08,\n",
    "    'L': 0.1,\n",
    "    'XL': 0.18,\n",
    "    'XXL': 0.25\n",
    "}"
   ]
  },
  {
   "cell_type": "code",
   "execution_count": null,
   "metadata": {},
   "outputs": [],
   "source": []
  },
  {
   "cell_type": "code",
   "execution_count": 24,
   "metadata": {},
   "outputs": [
    {
     "data": {
      "text/plain": [
       "'XL'"
      ]
     },
     "execution_count": 24,
     "metadata": {},
     "output_type": "execute_result"
    }
   ],
   "source": [
    "def formaten_naar_klasse(formaten:list) -> str:\n",
    "    som = formaten[0] * formaten[1] * formaten[2]\n",
    "    for klasse in formaten_per_klasse.keys():\n",
    "        if som < formaten_per_klasse[klasse]:\n",
    "            return klasse\n",
    "        \n",
    "formaten_naar_klasse([30,90,60])"
   ]
  },
  {
   "cell_type": "code",
   "execution_count": 28,
   "metadata": {},
   "outputs": [
    {
     "data": {
      "text/plain": [
       "0.1"
      ]
     },
     "execution_count": 28,
     "metadata": {},
     "output_type": "execute_result"
    }
   ],
   "source": [
    "\n",
    "\n",
    "prijzen_per_klasse[formaten_naar_klasse([30,40,50])]\n"
   ]
  }
 ],
 "metadata": {
  "kernelspec": {
   "display_name": "Python 3",
   "language": "python",
   "name": "python3"
  },
  "language_info": {
   "codemirror_mode": {
    "name": "ipython",
    "version": 3
   },
   "file_extension": ".py",
   "mimetype": "text/x-python",
   "name": "python",
   "nbconvert_exporter": "python",
   "pygments_lexer": "ipython3",
   "version": "3.11.2"
  }
 },
 "nbformat": 4,
 "nbformat_minor": 2
}
