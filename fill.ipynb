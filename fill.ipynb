{
 "cells": [
  {
   "cell_type": "code",
   "execution_count": 2,
   "metadata": {},
   "outputs": [],
   "source": [
    "from math import inf"
   ]
  },
  {
   "cell_type": "code",
   "execution_count": 6,
   "metadata": {},
   "outputs": [],
   "source": [
    "klasse_formaten = {\n",
    "    'brievenbus':\n",
    "        {'afmeting':[35,25,3], 'gewicht':[0,2]},\n",
    "    'S':\n",
    "        {'afmeting':[22,20,15], 'gewicht':[0,2]},\n",
    "    'M':\n",
    "        {'afmeting':[30,22,25], 'gewicht':[2,5]},\n",
    "    'L':\n",
    "        {'afmeting':[42,30,20], 'gewicht':[5,10]},\n",
    "    'XL':\n",
    "        {'afmeting':[60,40,40], 'gewicht':[10,20]},\n",
    "    'XXL':\n",
    "        {'afmeting':[inf, inf, inf], 'gewicht':[20, inf]},        \n",
    "}"
   ]
  },
  {
   "cell_type": "code",
   "execution_count": 7,
   "metadata": {},
   "outputs": [],
   "source": [
    "klasse_tarieven = {\n",
    "    'brievenbus':\n",
    "        [5.5, 5.25, 5],\n",
    "    'S':\n",
    "        [7.75, 7.5, 7.25],\n",
    "    'M':\n",
    "        [8.25, 8, 7.75],\n",
    "    'L':\n",
    "        [8.75, 8.5, 8.25],\n",
    "    'XL':\n",
    "        [9.5, 9.25, 9],\n",
    "    'XXL':\n",
    "        [12.5, 12.25, 12],        \n",
    "}"
   ]
  },
  {
   "cell_type": "code",
   "execution_count": 10,
   "metadata": {},
   "outputs": [],
   "source": [
    "# formaat gewicht afzet naar week kosten per product"
   ]
  },
  {
   "cell_type": "markdown",
   "metadata": {},
   "source": [
    "## 1. Gewicht en afmeting naar klasse"
   ]
  },
  {
   "cell_type": "markdown",
   "metadata": {},
   "source": [
    "### 1a. klasse volgens afmeting"
   ]
  },
  {
   "cell_type": "code",
   "execution_count": 107,
   "metadata": {},
   "outputs": [
    {
     "data": {
      "text/plain": [
       "'XL'"
      ]
     },
     "execution_count": 107,
     "metadata": {},
     "output_type": "execute_result"
    }
   ],
   "source": [
    "def klasse_volgens_afmetingen(afmeting):\n",
    "    for klasse in klasse_formaten.keys():\n",
    "        #afmetingen = klasse_formaten[klasse]\n",
    "        klasse_afmetingen = klasse_formaten[klasse]['afmeting']\n",
    "        \n",
    "        klasse_afmetingen_op_volgorde = sorted(klasse_afmetingen,reverse=True)\n",
    "        afmetingen_op_volgorde = sorted(afmeting, reverse=True)\n",
    "        \n",
    "        alle_dimensies = [afmetingen_op_volgorde[i] <= klasse_afmetingen_op_volgorde[i] for i in range(3)]\n",
    "\n",
    "        \n",
    "        if all(alle_dimensies):\n",
    "            return klasse\n",
    "        \n",
    "klasse_volgens_afmetingen([44,20,15])"
   ]
  },
  {
   "cell_type": "markdown",
   "metadata": {},
   "source": [
    "### 1b. klasse volgens gewicht"
   ]
  },
  {
   "cell_type": "code",
   "execution_count": 95,
   "metadata": {},
   "outputs": [
    {
     "data": {
      "text/plain": [
       "'XL'"
      ]
     },
     "execution_count": 95,
     "metadata": {},
     "output_type": "execute_result"
    }
   ],
   "source": [
    "def klasse_volgens_gewicht(gewicht):\n",
    "    for klasse in klasse_formaten.keys():\n",
    "        #afmetingen = klasse_formaten[klasse]\n",
    "        gewichten = klasse_formaten[klasse]['gewicht']\n",
    "        \n",
    "        if (gewicht>=gewichten[0]) & (gewicht<=gewichten[1]):\n",
    "            return klasse\n",
    "            \n",
    "            \n",
    "klasse_volgens_gewicht(10.9)"
   ]
  },
  {
   "cell_type": "markdown",
   "metadata": {},
   "source": [
    "### 1c. hoogste klasse nemen"
   ]
  },
  {
   "cell_type": "code",
   "execution_count": 98,
   "metadata": {},
   "outputs": [],
   "source": [
    "def andor(a, b):\n",
    "    return any([a and b, a or b])\n",
    "\n",
    "volgorde = list(klasse_tarieven.keys())\n",
    "flipped_volgorde = volgorde[::-1]\n",
    "\n",
    "def twee_klasses_naar_hoogste(klasse1, klasse2):\n",
    "    for klasse in flipped_volgorde:\n",
    "        if andor(klasse==klasse1, klasse==klasse2):\n",
    "            return klasse"
   ]
  },
  {
   "cell_type": "markdown",
   "metadata": {},
   "source": [
    "### 1d. alles combineren"
   ]
  },
  {
   "cell_type": "code",
   "execution_count": 101,
   "metadata": {},
   "outputs": [],
   "source": [
    "def omvang_naar_klasse(afmetingen: list, gewicht: float) -> str:\n",
    "    volgens_afmetingen = klasse_volgens_afmetingen(afmetingen)\n",
    "    volgens_gewicht = klasse_volgens_gewicht(gewicht)\n",
    "    return twee_klasses_naar_hoogste(volgens_afmetingen, volgens_gewicht)"
   ]
  },
  {
   "cell_type": "code",
   "execution_count": 104,
   "metadata": {},
   "outputs": [
    {
     "data": {
      "text/plain": [
       "'XL'"
      ]
     },
     "execution_count": 104,
     "metadata": {},
     "output_type": "execute_result"
    }
   ],
   "source": [
    "omvang_naar_klasse([44,20,15], 6)"
   ]
  },
  {
   "cell_type": "markdown",
   "metadata": {},
   "source": [
    "# 2. Klasse en afzet naar prijs per product"
   ]
  },
  {
   "cell_type": "code",
   "execution_count": 109,
   "metadata": {},
   "outputs": [
    {
     "data": {
      "text/plain": [
       "[8.75, 8.5, 8.25]"
      ]
     },
     "execution_count": 109,
     "metadata": {},
     "output_type": "execute_result"
    }
   ],
   "source": [
    "afzet = 38\n",
    "klasse = 'L'\n",
    "\n",
    "tarieven = klasse_tarieven[klasse]\n",
    "\n",
    "tarieven"
   ]
  },
  {
   "cell_type": "code",
   "execution_count": 134,
   "metadata": {},
   "outputs": [
    {
     "data": {
      "text/plain": [
       "{'totaal': 362.5, 'per_product': 7.25}"
      ]
     },
     "execution_count": 134,
     "metadata": {},
     "output_type": "execute_result"
    }
   ],
   "source": [
    "def klasse_en_afzet_naar_bedrag(klasse:str, afzet:int) -> dict:\n",
    "    \n",
    "    tarieven = klasse_tarieven[klasse]\n",
    "    \n",
    "    if afzet < 25:\n",
    "        totaal = tarieven[0] * afzet\n",
    "    elif afzet < 50:\n",
    "        totaal = tarieven[1] * afzet\n",
    "    elif afzet < 100:\n",
    "        totaal = tarieven[2] * afzet\n",
    "    else:\n",
    "        return None\n",
    "        \n",
    "    return {'totaal':round(totaal,2), 'per_product':round(totaal / afzet,2)}    \n",
    "\n",
    "klasse_en_afzet_naar_bedrag('S',50) "
   ]
  },
  {
   "cell_type": "code",
   "execution_count": 135,
   "metadata": {},
   "outputs": [],
   "source": [
    "def sales_naar_bedrag(afmetingen: list, gewicht: float, afzet: int) -> dict:\n",
    "    klasse = omvang_naar_klasse(afmetingen, gewicht)\n",
    "    output = klasse_en_afzet_naar_bedrag(klasse, afzet)\n",
    "    output['klasse'] = klasse\n",
    "    return output"
   ]
  },
  {
   "cell_type": "code",
   "execution_count": 137,
   "metadata": {},
   "outputs": [
    {
     "data": {
      "text/plain": [
       "{'totaal': 495, 'per_product': 9.0, 'klasse': 'XL'}"
      ]
     },
     "execution_count": 137,
     "metadata": {},
     "output_type": "execute_result"
    }
   ],
   "source": [
    "sales_naar_bedrag([30,30,30], 4.5, 55)"
   ]
  }
 ],
 "metadata": {
  "kernelspec": {
   "display_name": "Python 3",
   "language": "python",
   "name": "python3"
  },
  "language_info": {
   "codemirror_mode": {
    "name": "ipython",
    "version": 3
   },
   "file_extension": ".py",
   "mimetype": "text/x-python",
   "name": "python",
   "nbconvert_exporter": "python",
   "pygments_lexer": "ipython3",
   "version": "3.11.2"
  }
 },
 "nbformat": 4,
 "nbformat_minor": 2
}
